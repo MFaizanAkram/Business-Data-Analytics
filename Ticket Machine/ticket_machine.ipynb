{
 "cells": [
  {
   "cell_type": "markdown",
   "metadata": {},
   "source": [
    "### **Metro Ticket Machine:**"
   ]
  },
  {
   "cell_type": "markdown",
   "metadata": {},
   "source": [
    "---"
   ]
  },
  {
   "cell_type": "code",
   "execution_count": 3,
   "metadata": {},
   "outputs": [
    {
     "name": "stdout",
     "output_type": "stream",
     "text": [
      "Price: 30 PKR\n",
      "Destination: Gujranwala\n",
      "Name: Faizan\n",
      "Age: 19\n",
      "CNIC: 3410126074717\n"
     ]
    }
   ],
   "source": [
    "# Creating a class of ticket machine:\n",
    "class ticket_machine:\n",
    "   \n",
    "    def set_price(self, price): # Attribute to set the value of price \n",
    "        self.price = price\n",
    "    def get_price(self):\n",
    "        return self.price\n",
    "    \n",
    "    def set_destination(self, destination): # Attribute to know the destination of customer\n",
    "        self.destination = destination\n",
    "    def get_destination(self):\n",
    "        return self.destination\n",
    "    \n",
    "    def set_age(self, age): # Attribute to know the age of traveler\n",
    "        self.age = age\n",
    "    def get_age(self):\n",
    "        return self.age\n",
    "    \n",
    "    def set_cnic(self, cnic):\n",
    "        self.cnic = cnic\n",
    "    def get_cnic(self):\n",
    "        return self.cnic\n",
    "    \n",
    "    def set_name(self, name):\n",
    "        self.name = name\n",
    "    def get_name(self):\n",
    "        return self.name\n",
    "\n",
    "# Create an instance of the ticket_machine class\n",
    "tm = ticket_machine()\n",
    "\n",
    "# Set attributes using input function\n",
    "tm.set_price(input(\"Enter price: \"))\n",
    "tm.set_destination(input(\"Enter destination: \"))\n",
    "tm.set_name(input(\"Enter name: \"))\n",
    "tm.set_age(input(\"Enter age: \"))\n",
    "tm.set_cnic(input(\"Enter CNIC: \"))\n",
    "\n",
    "# Access attributes using class methods\n",
    "print(\"Price:\", tm.get_price())\n",
    "print(\"Destination:\", tm.get_destination())\n",
    "print(\"Name:\", tm.get_name())\n",
    "print(\"Age:\", tm.get_age())\n",
    "print(\"CNIC:\", tm.get_cnic())"
   ]
  },
  {
   "cell_type": "markdown",
   "metadata": {},
   "source": [
    "---"
   ]
  }
 ],
 "metadata": {
  "kernelspec": {
   "display_name": "Python 3",
   "language": "python",
   "name": "python3"
  },
  "language_info": {
   "codemirror_mode": {
    "name": "ipython",
    "version": 3
   },
   "file_extension": ".py",
   "mimetype": "text/x-python",
   "name": "python",
   "nbconvert_exporter": "python",
   "pygments_lexer": "ipython3",
   "version": "3.12.2"
  }
 },
 "nbformat": 4,
 "nbformat_minor": 2
}
